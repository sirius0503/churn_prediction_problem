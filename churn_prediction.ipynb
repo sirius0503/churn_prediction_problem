{
 "cells": [
  {
   "cell_type": "markdown",
   "metadata": {
    "colab_type": "text",
    "id": "e8xvwIVakhBM"
   },
   "source": [
    "## Churn Problem"
   ]
  },
  {
   "cell_type": "markdown",
   "metadata": {
    "colab_type": "text",
    "id": "W_zeLI_LxVK9"
   },
   "source": [
    "##### Introduction\n",
    "\n",
    "---\n",
    "\n",
    "\n",
    "The purpose of this notebook is to design a model which tells us for a given dataset whether a customer has churned or not. The definition is to be valid for all kinds of non-contractual servies whether it be fashion retail, electronics retail, etc. \n",
    "Also, for this purpose the given notebook will also define the number of months from the last transaction date , after which we can tell if a person has churned or not.\n",
    "\n",
    "##### Challenges\n",
    "\n",
    "---\n",
    "\n",
    "1) Defining the time period after which a customer can be said to have churned is in itself a great challenge. Since, in this regard churn has to be a duration which is both useful and meaningful for the company to which we are selling the model to. Like coming out with a churn figure of say more than a year , is pretty useless.\n",
    "\n",
    "There are various features one can use to define churn: 1) like using the various transaction dates, \n",
    "\n",
    "\n",
    "\n",
    "\n"
   ]
  },
  {
   "cell_type": "markdown",
   "metadata": {
    "colab_type": "text",
    "id": "yTlYV4xyWYDu"
   },
   "source": [
    "### **Importing libraries & loading the required data **\n",
    "\n",
    "\n",
    "\n",
    ">  First of all we import the necessary packages into our notebook.\n",
    "\n",
    "\n",
    "\n",
    "\n",
    "\n"
   ]
  },
  {
   "cell_type": "code",
   "execution_count": null,
   "metadata": {
    "colab": {},
    "colab_type": "code",
    "id": "rCZhi9FEkhBQ"
   },
   "outputs": [],
   "source": [
    "#Importing necessary packages.\n",
    "%matplotlib inline \n",
    "import pandas as pd #Data Manipulation package\n",
    "import numpy as np #Linear Algebra package\n",
    "import matplotlib.pyplot as plt\n",
    "import seaborn as sns # Seaborn gives us better aesthetics than basic matplotlib in our plots.\n",
    "from sklearn.preprocessing import Imputer # Imputation package of scikit-learn."
   ]
  },
  {
   "cell_type": "code",
   "execution_count": null,
   "metadata": {
    "colab": {
     "base_uri": "https://localhost:8080/",
     "height": 54
    },
    "colab_type": "code",
    "id": "KQonKrZHqHC8",
    "outputId": "854ee07a-f329-4013-dfca-1b0d12893462"
   },
   "outputs": [],
   "source": [
    "\"\"\"!apt-get install -y -qq software-properties-common python-software-properties module-init-tools\n",
    "!add-apt-repository -y ppa:alessandro-strada/ppa 2>&1 > /dev/null\n",
    "!apt-get update -qq 2>&1 > /dev/null\n",
    "!apt-get -y install -qq google-drive-ocamlfuse fuse\n",
    "from google.colab import auth\n",
    "auth.authenticate_user()\n",
    "from oauth2client.client import GoogleCredentials\n",
    "creds = GoogleCredentials.get_application_default()\n",
    "import getpass\n",
    "!google-drive-ocamlfuse -headless -id={creds.client_id} -secret={creds.client_secret} < /dev/null 2>&1 | grep URL\n",
    "vcode = getpass.getpass()\n",
    "!echo {vcode} | google-drive-ocamlfuse -headless -id={creds.client_id} -secret={creds.client_secret}\n",
    "\n",
    "!mkdir -p drive\n",
    "!google-drive-ocamlfuse drive\"\"\""
   ]
  },
  {
   "cell_type": "code",
   "execution_count": null,
   "metadata": {
    "colab": {
     "base_uri": "https://localhost:8080/",
     "height": 34
    },
    "colab_type": "code",
    "id": "DgY9ZIw0MWUM",
    "outputId": "a0988cc0-889a-46d1-cd34-58ea2a2250ca"
   },
   "outputs": [],
   "source": [
    "# Changing the directory\n",
    "\"\"\"import os\n",
    "os.chdir(\"drive/ML\")\"\"\"\n",
    "!pwd"
   ]
  },
  {
   "cell_type": "code",
   "execution_count": null,
   "metadata": {
    "colab": {
     "base_uri": "https://localhost:8080/",
     "height": 34
    },
    "colab_type": "code",
    "id": "7cDQYeIQVxWn",
    "outputId": "37ced01c-e6f3-4ecb-ffaa-83d658cc9d84"
   },
   "outputs": [],
   "source": [
    "!ls /content"
   ]
  },
  {
   "cell_type": "markdown",
   "metadata": {
    "colab_type": "text",
    "id": "e2Gc3Hh-0lJf"
   },
   "source": [
    "There are two files for us to consider on which we have to define churn & train and test our model.\n",
    "sales.csv contains the sales data, whereas cap_reg contains the customer personal details & details relating to loyalty points & other schemes."
   ]
  },
  {
   "cell_type": "markdown",
   "metadata": {
    "colab_type": "text",
    "id": "qpRZyySc1RPS"
   },
   "source": [
    "#### For reading the two files we are using the pandas library, and we require the encoding parameter in sales.csv. And the dtype & encoding parameter for cap_reg  \n",
    "\n",
    "Encoding is required for pandas to read the obscure characters from other languages such as Arabic, as is the case here. For other regions encoding has to be supplied in the same manner.\n",
    "Link to standard python encodings is given below:\n",
    "[List of Standard Python encodings.](https://docs.python.org/3/library/codecs.html#standard-encodings)\n",
    "\n",
    "Dtype is the type of the columns which can be float64, int , str ,etc but , when a column contains more than one type of values say both string and int , then in such cases of mixed values object is used. Giving the dtype=object value makes all the columns dtype=object\n"
   ]
  },
  {
   "cell_type": "code",
   "execution_count": null,
   "metadata": {
    "colab": {},
    "colab_type": "code",
    "id": "uPRqeNLukhBW"
   },
   "outputs": [],
   "source": [
    "#Reading the data\n",
    "sales = pd.read_csv(\"sales.csv\", encoding= \"ISO-8859-1\")\n",
    "cap_reg = pd.read_csv(\"cap_reg.csv\", encoding=\"ISO-8859-1\", dtype=object)"
   ]
  },
  {
   "cell_type": "code",
   "execution_count": null,
   "metadata": {
    "colab": {
     "base_uri": "https://localhost:8080/",
     "height": 391
    },
    "colab_type": "code",
    "id": "tYu_xmAhkhBd",
    "outputId": "e2207417-4c95-4879-d357-e73b99399d5e"
   },
   "outputs": [],
   "source": [
    "sales.head()"
   ]
  },
  {
   "cell_type": "code",
   "execution_count": null,
   "metadata": {
    "colab": {
     "base_uri": "https://localhost:8080/",
     "height": 34
    },
    "colab_type": "code",
    "id": "FDn7GaYzkhBi",
    "outputId": "971e72cb-786c-4e48-d566-5f7f83da11ab"
   },
   "outputs": [],
   "source": [
    "#No. of instances\n",
    "len(sales) "
   ]
  },
  {
   "cell_type": "markdown",
   "metadata": {
    "colab_type": "text",
    "id": "ICP0JSC69fbn"
   },
   "source": [
    "The below tuple shows that there are customers with only negative transactions also. This will occur in rare cases, \n",
    "#### This type of case pops up maybe, since the customer didn't give his phone number when he bought the item, but gave his phone number on return. Such people won't have customerid when they are buying items."
   ]
  },
  {
   "cell_type": "code",
   "execution_count": null,
   "metadata": {
    "colab": {
     "base_uri": "https://localhost:8080/",
     "height": 34
    },
    "colab_type": "code",
    "id": "JkJkL7-Q8Hoc",
    "outputId": "f57de1e2-3b96-4af4-fd37-8af753e3490a"
   },
   "outputs": [],
   "source": [
    "sales['custaccount'].nunique(), sales.loc[sales['sales']> 0, 'custaccount'].nunique()"
   ]
  },
  {
   "cell_type": "markdown",
   "metadata": {
    "colab_type": "text",
    "id": "s5nE0ODe48yk"
   },
   "source": [
    "#### For this model to work there should be a transdate column, named as transdate\n",
    "Changing transdate column to datetime format"
   ]
  },
  {
   "cell_type": "code",
   "execution_count": null,
   "metadata": {
    "colab": {},
    "colab_type": "code",
    "id": "ljPJp4EDkhBo"
   },
   "outputs": [],
   "source": [
    "sales['transdate'] = pd.to_datetime(sales['transdate'], yearfirst=True, errors='coerce')"
   ]
  },
  {
   "cell_type": "markdown",
   "metadata": {
    "colab_type": "text",
    "id": "nTC8jwsFkhBr"
   },
   "source": [
    "### Each receiptid can have multiple rows, since in 1 transaction there can be multiple items purchased."
   ]
  },
  {
   "cell_type": "markdown",
   "metadata": {
    "colab_type": "text",
    "id": "yvvFO-4o5MIx"
   },
   "source": [
    " Note 1 receiptid can have several rows, since a transaction with several different items is listed in different rows.\n",
    "Below, we can see multiple items purchased by a single customer in a single receipt id. As can be seen receiptid ending with 392 has 7 items in one single transaction"
   ]
  },
  {
   "cell_type": "code",
   "execution_count": null,
   "metadata": {
    "colab": {
     "base_uri": "https://localhost:8080/",
     "height": 4777
    },
    "colab_type": "code",
    "id": "ovihSIkikhBt",
    "outputId": "d15082f0-7b2f-47f2-8e44-e26d1c177cd7"
   },
   "outputs": [],
   "source": [
    "sales.sort_values('receiptid') #Not inplace. just sorting here for displaying information."
   ]
  },
  {
   "cell_type": "markdown",
   "metadata": {
    "colab_type": "text",
    "id": "cLVxeXdJ5-Wq"
   },
   "source": [
    "#### Creating a new dataframe df, with only buys/no-replacements, and columns : custaccount & transdate."
   ]
  },
  {
   "cell_type": "markdown",
   "metadata": {
    "colab_type": "text",
    "id": "lclFbJqcExvA"
   },
   "source": [
    "### Here, I am aiming on defining churn i.e, no. of months after which , if a customer doesn't make a transaction, we can say that he has churned or we have lost that customer. So for defining churn I am using the interpurchase times between the different transaction dates and then plotting a cumulative plot."
   ]
  },
  {
   "cell_type": "code",
   "execution_count": null,
   "metadata": {
    "colab": {},
    "colab_type": "code",
    "id": "TXEQPX6QkhBy"
   },
   "outputs": [],
   "source": [
    "df = (sales[sales['sales'] > 0][['custaccount', 'transdate']])"
   ]
  },
  {
   "cell_type": "code",
   "execution_count": null,
   "metadata": {
    "colab": {
     "base_uri": "https://localhost:8080/",
     "height": 34
    },
    "colab_type": "code",
    "id": "gJsq7Hc6khB5",
    "outputId": "239ad45e-2e2e-4003-f662-1f721c7e0166"
   },
   "outputs": [],
   "source": [
    "len(df)"
   ]
  },
  {
   "cell_type": "markdown",
   "metadata": {
    "colab_type": "text",
    "id": "r6q5s-fXkhCA"
   },
   "source": [
    "### Deleting rows with same custaccount and transdate, so that duplicates get dropped\n",
    "\n",
    " Removing duplicates due to multiple items purchased in one transaction, and sorting by custaccount & transdate, so , as to get transdates in ascending order grouped by custaccount."
   ]
  },
  {
   "cell_type": "code",
   "execution_count": null,
   "metadata": {
    "colab": {},
    "colab_type": "code",
    "id": "Bj2Lvj9TkhCG"
   },
   "outputs": [],
   "source": [
    "df = df.sort_values(by = ['custaccount', 'transdate']).drop_duplicates()"
   ]
  },
  {
   "cell_type": "code",
   "execution_count": null,
   "metadata": {
    "colab": {
     "base_uri": "https://localhost:8080/",
     "height": 34
    },
    "colab_type": "code",
    "id": "YSXVCPw0khCP",
    "outputId": "255c2d99-7345-4c3f-e127-1f8e85e0c83b"
   },
   "outputs": [],
   "source": [
    "len(df['custaccount'].unique())"
   ]
  },
  {
   "cell_type": "markdown",
   "metadata": {
    "colab_type": "text",
    "id": "aR0Pnjd4_1tu"
   },
   "source": [
    "#### Sorted by custaccounts and their different transaction dates by ascending order."
   ]
  },
  {
   "cell_type": "code",
   "execution_count": null,
   "metadata": {
    "colab": {
     "base_uri": "https://localhost:8080/",
     "height": 669
    },
    "colab_type": "code",
    "id": "8jUzu9KNkhCZ",
    "outputId": "eaa349b5-a7be-4731-efda-5d59aa99724c"
   },
   "outputs": [],
   "source": [
    "df.head(20) "
   ]
  },
  {
   "cell_type": "markdown",
   "metadata": {
    "colab_type": "text",
    "id": "NlWA12Mg_9F7"
   },
   "source": [
    "#### Grouping by custaccount and taking the different transactions differences.\n",
    "#### NaT for the customers who had made only single transactions, since groupby diff doesn't work for them, since after groupby they are left with single row & don't have a previous row.\n",
    "pandas.DataFrame.diff : Calculates the difference of a DataFrame element compared with another element in the DataFrame (default is the element in the same column of the previous row). - From documentation\n",
    "\n",
    "\n"
   ]
  },
  {
   "cell_type": "code",
   "execution_count": null,
   "metadata": {
    "colab": {},
    "colab_type": "code",
    "id": "NBa_nWuWkhCf"
   },
   "outputs": [],
   "source": [
    "df['diff'] =  df.groupby('custaccount')['transdate'].diff()"
   ]
  },
  {
   "cell_type": "code",
   "execution_count": null,
   "metadata": {
    "colab": {
     "base_uri": "https://localhost:8080/",
     "height": 669
    },
    "colab_type": "code",
    "id": "oH-hQahqkhCl",
    "outputId": "b3ae7350-a370-4b8d-8527-32675a288da1"
   },
   "outputs": [],
   "source": [
    "df.head(20)"
   ]
  },
  {
   "cell_type": "markdown",
   "metadata": {
    "colab_type": "text",
    "id": "NrKyfqF6BZ1J"
   },
   "source": [
    "#### Dropping customers with single transactions by dropping the rows with NaT \n",
    "For datetime64[ns] types, NaT represents missing values. This is a pseudo-native sentinel value that can be represented by NumPy in a singular dtype (datetime64[ns]). pandas objects provide intercompatibility between NaT and NaN. - From Documentation (Pandas)\n",
    "\n",
    "Also dropping transdate column as it isn't required now.\n",
    "\n",
    "---\n",
    "\n"
   ]
  },
  {
   "cell_type": "code",
   "execution_count": null,
   "metadata": {
    "colab": {},
    "colab_type": "code",
    "id": "SpUNihMnkhCv"
   },
   "outputs": [],
   "source": [
    "df= df.dropna(how='any').drop('transdate',axis=1)"
   ]
  },
  {
   "cell_type": "code",
   "execution_count": null,
   "metadata": {
    "colab": {
     "base_uri": "https://localhost:8080/",
     "height": 669
    },
    "colab_type": "code",
    "id": "1xkbDSK_khCz",
    "outputId": "88f329e5-26eb-4487-c41a-705ff101210a"
   },
   "outputs": [],
   "source": [
    "df.head(20)"
   ]
  },
  {
   "cell_type": "markdown",
   "metadata": {
    "colab_type": "text",
    "id": "THpXFw46DcDq"
   },
   "source": [
    "Setting index as custaccount"
   ]
  },
  {
   "cell_type": "code",
   "execution_count": null,
   "metadata": {
    "colab": {},
    "colab_type": "code",
    "id": "wZIMZbntkhC7"
   },
   "outputs": [],
   "source": [
    "df.set_index('custaccount', inplace=True)"
   ]
  },
  {
   "cell_type": "code",
   "execution_count": null,
   "metadata": {
    "colab": {
     "base_uri": "https://localhost:8080/",
     "height": 235
    },
    "colab_type": "code",
    "id": "A-FkrcfikhC_",
    "outputId": "828b1a2f-698d-48c7-adcf-561ab07ca228"
   },
   "outputs": [],
   "source": [
    "df.head()"
   ]
  },
  {
   "cell_type": "markdown",
   "metadata": {
    "colab_type": "text",
    "id": "Wmh9BboUDiAG"
   },
   "source": [
    "#### Converting the timedelta values to integer by dividing by a single day timedelta and then using astype to convert to 'int' dtype."
   ]
  },
  {
   "cell_type": "code",
   "execution_count": null,
   "metadata": {
    "colab": {},
    "colab_type": "code",
    "id": "irntrqIGkhDE"
   },
   "outputs": [],
   "source": [
    "df = (df/np.timedelta64(1, 'D')).astype('int')"
   ]
  },
  {
   "cell_type": "code",
   "execution_count": null,
   "metadata": {
    "colab": {
     "base_uri": "https://localhost:8080/",
     "height": 235
    },
    "colab_type": "code",
    "id": "9B3njRgWkhDJ",
    "outputId": "d9c88752-7aff-4322-ac3f-e3937a42c493"
   },
   "outputs": [],
   "source": [
    "df.head()"
   ]
  },
  {
   "cell_type": "markdown",
   "metadata": {
    "colab_type": "text",
    "id": "szMHXVSbHCYl"
   },
   "source": [
    "#### pandas.DataFrame.values : Return a Numpy representation of the DataFrame. - From documentation"
   ]
  },
  {
   "cell_type": "code",
   "execution_count": null,
   "metadata": {
    "colab": {
     "base_uri": "https://localhost:8080/",
     "height": 136
    },
    "colab_type": "code",
    "id": "HruWZtokkhDN",
    "outputId": "10da764d-6293-453f-ffa1-830e7e083efa"
   },
   "outputs": [],
   "source": [
    "df.values"
   ]
  },
  {
   "cell_type": "code",
   "execution_count": null,
   "metadata": {
    "colab": {},
    "colab_type": "code",
    "id": "ElEdqUIPkhDQ"
   },
   "outputs": [],
   "source": [
    "# Number of bins\n",
    "num_bin = df.max().values"
   ]
  },
  {
   "cell_type": "markdown",
   "metadata": {
    "colab_type": "text",
    "id": "J_efFjGqHcK5"
   },
   "source": [
    "**Using np.histogram to get the frequencies of the different interpurchase time like [1, 3, 5], which would represent 0 days - 1 interpurchase time, 1 days - 3 interpurchase time, 2 days - 5 interpurchase times, etc. and then taking the cumulative sum of the values numpy arrays thus, generated and then plotting the cumulative graph.**"
   ]
  },
  {
   "cell_type": "code",
   "execution_count": null,
   "metadata": {
    "colab": {
     "base_uri": "https://localhost:8080/",
     "height": 265
    },
    "colab_type": "code",
    "id": "wFqWD40xkhDT",
    "outputId": "afcd07b8-4ac6-4d37-fbff-3a7ae290ce2f"
   },
   "outputs": [],
   "source": [
    "values, base = np.histogram(df.values, bins=np.arange(num_bin))\n",
    "#evaluate the cumulative\n",
    "cumulative = np.cumsum(values)\n",
    "# plot the cumulative function\n",
    "plt.plot(base[:-1], cumulative, c='blue')\n",
    "\n",
    "plt.show()"
   ]
  },
  {
   "cell_type": "markdown",
   "metadata": {
    "colab_type": "text",
    "id": "lBJC2_XGIw8n"
   },
   "source": [
    "#### Normally we would take the churn period to be the number of days at which the slope is almost zero (gradient), but here as we can see the slope becomes zero after 400 days and defining churn duration as more than a year's time is redundant. On examination of the graph in this case we can see it looks like pareto cdf plot and thus, we can apply the pareto 80:20 rule, which says that 80% of the wealth of the people is distributed between 20% of the population.\n",
    "\n",
    "Another approach would be to use boxplots and to exclude the outliers, as I've described latter.\n",
    "![alt text](https://www.safaribooksonline.com/library/view/think-stats/9781449308117/httpatomoreillycomsourceoreillyimages863940.png)"
   ]
  },
  {
   "cell_type": "markdown",
   "metadata": {
    "colab_type": "text",
    "id": "8aUcnJdKKPvb"
   },
   "source": [
    "#### churn_days defined by using the 80:20 rule"
   ]
  },
  {
   "cell_type": "code",
   "execution_count": null,
   "metadata": {
    "colab": {},
    "colab_type": "code",
    "id": "rDz26Q1HkhDc"
   },
   "outputs": [],
   "source": [
    "# Use of Pareto 80:20 rule to solve for churn_days, boxplots could also have been used to remove outliers using concept of interquartile range\n",
    "churn_days = (((cumulative[::-1].cumsum()/cumulative.sum()) * 100) >= 80).sum()"
   ]
  },
  {
   "cell_type": "code",
   "execution_count": null,
   "metadata": {
    "colab": {
     "base_uri": "https://localhost:8080/",
     "height": 34
    },
    "colab_type": "code",
    "id": "xulyuVBRK4O3",
    "outputId": "b980163d-4cae-4364-8f54-ce99ef330bc0"
   },
   "outputs": [],
   "source": [
    "churn_days"
   ]
  },
  {
   "cell_type": "markdown",
   "metadata": {
    "colab_type": "text",
    "id": "kN465zJLKbC0"
   },
   "source": [
    "#### Using boxplots the values beyond 75 % percentile + 1.5 * IQR are outliers and can be removed. Similarly, points beyond 25% percentile - 1.5 * IQR are counted as outliers and can be removed.\n",
    "We could have taken the value of iq75 (75 percentile) + 1.5 * IQR as the churn period."
   ]
  },
  {
   "cell_type": "code",
   "execution_count": null,
   "metadata": {
    "colab": {
     "base_uri": "https://localhost:8080/",
     "height": 415
    },
    "colab_type": "code",
    "id": "kNERduUCkhDm",
    "outputId": "c150ad44-62af-4aac-9006-db8666e430c5"
   },
   "outputs": [],
   "source": [
    "sns.set(style=\"whitegrid\")\n",
    "_ = sns.boxplot(x = df['diff'], notch=True, whis=1.5)\n",
    "\n",
    "\n",
    "# Points outside the vertical line that is the whisker are outliers , whis=1.5 , also default parameter."
   ]
  },
  {
   "cell_type": "code",
   "execution_count": null,
   "metadata": {
    "colab": {},
    "colab_type": "code",
    "id": "EX97U5fNkhDy"
   },
   "outputs": [],
   "source": [
    "# Outlier removal using concept of interquartile range.\n",
    "#iq75, iq25 = np.percentile(df['diff'], [75, 25])\n",
    "#iqr = iq75 - iq25"
   ]
  },
  {
   "cell_type": "code",
   "execution_count": null,
   "metadata": {
    "colab": {},
    "colab_type": "code",
    "id": "RBPsMRYxkhDz"
   },
   "outputs": [],
   "source": [
    "# Days of churn calculated using interquartile range concept\n",
    "#iq75 + iqr * 1.5                               "
   ]
  },
  {
   "cell_type": "markdown",
   "metadata": {
    "colab_type": "text",
    "id": "tpO1AEx0L3wX"
   },
   "source": [
    "#### Violin plot to show the same concept of outliers and the density where the most points are situated/located."
   ]
  },
  {
   "cell_type": "code",
   "execution_count": null,
   "metadata": {
    "colab": {
     "base_uri": "https://localhost:8080/",
     "height": 449
    },
    "colab_type": "code",
    "id": "OuQWo8SlkhD4",
    "outputId": "07111b95-44af-449e-d428-4738fe010000"
   },
   "outputs": [],
   "source": [
    "ax = sns.violinplot(df['diff'], scale=\"count\", inner=\"box\")"
   ]
  },
  {
   "cell_type": "markdown",
   "metadata": {
    "colab_type": "text",
    "id": "3K-ZBHNtkhEC"
   },
   "source": [
    "### Now converting the number of days after which a customer churns into months, respectively."
   ]
  },
  {
   "cell_type": "markdown",
   "metadata": {
    "colab_type": "text",
    "id": "Bt9Xc-yVkMSm"
   },
   "source": [
    "#### If days are more than or equal to 15 then convert to 1 month, if less than 15 then floor to 0. Using lambda function and numpy.ceil & numpy.floor."
   ]
  },
  {
   "cell_type": "code",
   "execution_count": null,
   "metadata": {
    "colab": {},
    "colab_type": "code",
    "id": "xezVXMW9khEC"
   },
   "outputs": [],
   "source": [
    "# This is the months function to be used as below\n",
    "months = lambda x : np.ceil(x) if (x - int(x))>= 0.5 else np.floor(x)"
   ]
  },
  {
   "cell_type": "code",
   "execution_count": null,
   "metadata": {
    "colab": {},
    "colab_type": "code",
    "id": "dzfR-dAAkhEH"
   },
   "outputs": [],
   "source": [
    "churn_months = months(churn_days/30).astype('int')"
   ]
  },
  {
   "cell_type": "markdown",
   "metadata": {
    "colab_type": "text",
    "id": "qoZKs8WpMP0J"
   },
   "source": [
    "#### Number of months after which a customer can be told to have churned after his last transaction."
   ]
  },
  {
   "cell_type": "code",
   "execution_count": null,
   "metadata": {
    "colab": {
     "base_uri": "https://localhost:8080/",
     "height": 34
    },
    "colab_type": "code",
    "id": "55RMYj-tkhEP",
    "outputId": "1912e297-23f8-4dcd-9f69-d8f064e1c76d"
   },
   "outputs": [],
   "source": [
    "churn_months"
   ]
  },
  {
   "cell_type": "code",
   "execution_count": null,
   "metadata": {
    "colab": {
     "base_uri": "https://localhost:8080/",
     "height": 235
    },
    "colab_type": "code",
    "id": "GCBP7twlkhEV",
    "outputId": "fbe289a7-e033-4bc7-9f37-ebc4fd923980"
   },
   "outputs": [],
   "source": [
    "df.head()"
   ]
  },
  {
   "cell_type": "code",
   "execution_count": null,
   "metadata": {
    "colab": {},
    "colab_type": "code",
    "id": "C42OeOCUkhEb"
   },
   "outputs": [],
   "source": [
    "# Creating a new dataframe df, with only buys/no-replacements, and columns : custaccount & transdate.\n",
    "df1 = (sales[sales['sales'] > 0][['custaccount', 'transdate']])"
   ]
  },
  {
   "cell_type": "code",
   "execution_count": null,
   "metadata": {
    "colab": {
     "base_uri": "https://localhost:8080/",
     "height": 204
    },
    "colab_type": "code",
    "id": "bxgKVPhfkhEg",
    "outputId": "6d25bb1a-3416-4f36-ddb5-8374091d6564"
   },
   "outputs": [],
   "source": [
    "df1.head()"
   ]
  },
  {
   "cell_type": "markdown",
   "metadata": {
    "colab_type": "text",
    "id": "DsU4AkAPMnqg"
   },
   "source": [
    "#### dropping duplicates on custaccount and keeping the last row for that custaccount. The last row would have the latest transaction date for the customers."
   ]
  },
  {
   "cell_type": "code",
   "execution_count": null,
   "metadata": {
    "colab": {},
    "colab_type": "code",
    "id": "DrJrJIvUNkjy"
   },
   "outputs": [],
   "source": [
    "df1 = pd.DataFrame(df1.groupby('custaccount')['transdate'].agg('max')).reset_index()"
   ]
  },
  {
   "cell_type": "code",
   "execution_count": null,
   "metadata": {
    "colab": {
     "base_uri": "https://localhost:8080/",
     "height": 204
    },
    "colab_type": "code",
    "id": "W0xOiQqoOZJa",
    "outputId": "ac464ee0-62ad-4f1a-8f6a-bd2fdc9e6303"
   },
   "outputs": [],
   "source": [
    "df1.head()"
   ]
  },
  {
   "cell_type": "markdown",
   "metadata": {
    "colab_type": "text",
    "id": "PFz7LDXYM5gA"
   },
   "source": [
    "#### Adding number of days since last transaction to the dataframe df2 by using pandas.merge."
   ]
  },
  {
   "cell_type": "code",
   "execution_count": null,
   "metadata": {
    "colab": {},
    "colab_type": "code",
    "id": "lko9qooSkhE0"
   },
   "outputs": [],
   "source": [
    "df2 = pd.merge(df1, pd.DataFrame(pd.to_datetime('today') - df1.groupby('custaccount' )['transdate'].agg('max')).reset_index().rename(columns={'transdate': 'nod'}))"
   ]
  },
  {
   "cell_type": "code",
   "execution_count": null,
   "metadata": {
    "colab": {
     "base_uri": "https://localhost:8080/",
     "height": 204
    },
    "colab_type": "code",
    "id": "eVVrWKI0khE2",
    "outputId": "98745b3c-88cd-46f9-9fcd-8fee84126edc"
   },
   "outputs": [],
   "source": [
    "df2.head()"
   ]
  },
  {
   "cell_type": "code",
   "execution_count": null,
   "metadata": {
    "colab": {},
    "colab_type": "code",
    "id": "1MqZPncmkhFA"
   },
   "outputs": [],
   "source": [
    "df2['nod'] = (df2['nod']/np.timedelta64(1, 'D')).astype('int')"
   ]
  },
  {
   "cell_type": "markdown",
   "metadata": {
    "colab_type": "text",
    "id": "jCkagrUKkhFD"
   },
   "source": [
    "### For dataframe using dataframe.apply to scale no. of days since last transaction to months"
   ]
  },
  {
   "cell_type": "code",
   "execution_count": null,
   "metadata": {
    "colab": {},
    "colab_type": "code",
    "id": "l-4UZxPdkhFE"
   },
   "outputs": [],
   "source": [
    "df2['no.months'] = ((df2['nod']/30).apply(lambda x : np.ceil(x) if (x - int(x)) >= 0.5 else np.floor(x))).astype('int')"
   ]
  },
  {
   "cell_type": "code",
   "execution_count": null,
   "metadata": {
    "colab": {},
    "colab_type": "code",
    "id": "SYqZ7YRekhFI"
   },
   "outputs": [],
   "source": [
    "df2['churn'] = None"
   ]
  },
  {
   "cell_type": "code",
   "execution_count": null,
   "metadata": {
    "colab": {},
    "colab_type": "code",
    "id": "-2EdaovgkhFQ"
   },
   "outputs": [],
   "source": [
    "df2['churn'] = df2[\"no.months\"] >= churn_months"
   ]
  },
  {
   "cell_type": "code",
   "execution_count": null,
   "metadata": {
    "colab": {
     "base_uri": "https://localhost:8080/",
     "height": 204
    },
    "colab_type": "code",
    "id": "W_RckRijkhFU",
    "outputId": "b2b65879-3dcf-4ddc-bcd5-ea15b5fa8f5a"
   },
   "outputs": [],
   "source": [
    "df2.head()"
   ]
  },
  {
   "cell_type": "code",
   "execution_count": null,
   "metadata": {
    "colab": {
     "base_uri": "https://localhost:8080/",
     "height": 34
    },
    "colab_type": "code",
    "id": "jpCWYDXDMBjq",
    "outputId": "76deb042-d902-4b97-af92-20ed28bc89e5"
   },
   "outputs": [],
   "source": [
    "df2['transdate'].max()"
   ]
  },
  {
   "cell_type": "markdown",
   "metadata": {
    "colab_type": "text",
    "id": "xt1b0aswNaKS"
   },
   "source": [
    "Dropping columns transdate and nod, and then sorting by column: no.months"
   ]
  },
  {
   "cell_type": "code",
   "execution_count": null,
   "metadata": {
    "colab": {
     "base_uri": "https://localhost:8080/",
     "height": 1969
    },
    "colab_type": "code",
    "id": "57eDzIZnkhFd",
    "outputId": "72b070d3-3e22-437c-b9c6-f36fc28f5e72"
   },
   "outputs": [],
   "source": [
    "df2.drop(columns=['transdate', 'nod']).sort_values(by='no.months')"
   ]
  },
  {
   "cell_type": "code",
   "execution_count": null,
   "metadata": {
    "colab": {
     "base_uri": "https://localhost:8080/",
     "height": 34
    },
    "colab_type": "code",
    "id": "RLNPHc71khFg",
    "outputId": "30ee1a25-d8da-45cf-e685-874b16156267"
   },
   "outputs": [],
   "source": [
    "df2['churn'].unique()"
   ]
  },
  {
   "cell_type": "markdown",
   "metadata": {
    "colab_type": "text",
    "id": "lGdMUZWAkhF2"
   },
   "source": [
    "### Cap_reg dropping columns\n",
    "\n",
    "This dataframe contains personal information about the customer, such as his country, Nationality , gender , email address, points, lifetime purchases, etc."
   ]
  },
  {
   "cell_type": "markdown",
   "metadata": {
    "colab_type": "text",
    "id": "Ig8nvXdNVqNO"
   },
   "source": [
    "Below we get the column names for the dataframe cap_reg"
   ]
  },
  {
   "cell_type": "markdown",
   "metadata": {
    "colab_type": "text",
    "id": "u8wvGnmyV9kP"
   },
   "source": [
    "#### Using the .info method we can see the number of non-null objects in each column as well as the memory usage. This dataframe alone uses 1.4 Gigabytes RAM."
   ]
  },
  {
   "cell_type": "code",
   "execution_count": null,
   "metadata": {
    "colab": {
     "base_uri": "https://localhost:8080/",
     "height": 204
    },
    "colab_type": "code",
    "id": "uEoxhgmHkhGc",
    "outputId": "ff887507-a910-47fd-de57-4a54e643fe71"
   },
   "outputs": [],
   "source": [
    "df2.head()"
   ]
  },
  {
   "cell_type": "code",
   "execution_count": null,
   "metadata": {
    "colab": {},
    "colab_type": "code",
    "id": "ZuqNwxO6khGe"
   },
   "outputs": [],
   "source": [
    "df2.drop(['transdate', 'nod', 'no.months'], axis=1, inplace=True)"
   ]
  },
  {
   "cell_type": "code",
   "execution_count": null,
   "metadata": {
    "colab": {
     "base_uri": "https://localhost:8080/",
     "height": 204
    },
    "colab_type": "code",
    "id": "0Piu8kAbkhGg",
    "outputId": "f455eb75-a71e-45c3-d395-2d05e965f48f"
   },
   "outputs": [],
   "source": [
    "df2.head()"
   ]
  },
  {
   "cell_type": "code",
   "execution_count": null,
   "metadata": {
    "colab": {
     "base_uri": "https://localhost:8080/",
     "height": 34
    },
    "colab_type": "code",
    "id": "j0XII2bMHDWe",
    "outputId": "4f49008d-3126-4830-8cd3-3b3986b4c6a8"
   },
   "outputs": [],
   "source": [
    "len(df2)"
   ]
  },
  {
   "cell_type": "code",
   "execution_count": null,
   "metadata": {
    "colab": {
     "base_uri": "https://localhost:8080/",
     "height": 374
    },
    "colab_type": "code",
    "id": "Qk8KGuFUkhGm",
    "outputId": "e608b222-11b4-40ef-9ebf-c3a5c2750cb5"
   },
   "outputs": [],
   "source": [
    "sales.head()"
   ]
  },
  {
   "cell_type": "code",
   "execution_count": null,
   "metadata": {
    "colab": {},
    "colab_type": "code",
    "id": "udjmjSWjkhGr"
   },
   "outputs": [],
   "source": [
    "sales1 = pd.DataFrame(sales.groupby('custaccount')['sales'].agg('sum'))"
   ]
  },
  {
   "cell_type": "code",
   "execution_count": null,
   "metadata": {
    "colab": {
     "base_uri": "https://localhost:8080/",
     "height": 235
    },
    "colab_type": "code",
    "id": "xOPCCAlUXCAk",
    "outputId": "244c2152-cdcc-40c0-a646-eda17a1bd45b"
   },
   "outputs": [],
   "source": [
    "#pd.merge(sales1 , sales[sales['sales']> 0], indicator=True)\n",
    "sales1.head()"
   ]
  },
  {
   "cell_type": "code",
   "execution_count": null,
   "metadata": {
    "colab": {
     "base_uri": "https://localhost:8080/",
     "height": 51
    },
    "colab_type": "code",
    "id": "CzqmnHLKkhGx",
    "outputId": "39bc0382-e57a-4ab1-dbf7-5b652a3e3b79"
   },
   "outputs": [],
   "source": [
    "sales['department'].unique()"
   ]
  },
  {
   "cell_type": "markdown",
   "metadata": {
    "colab_type": "text",
    "id": "qequxYFJi2Un"
   },
   "source": [
    "#### Adding quantities of different items bought Ladies, Lingerie & Nightwear, Men , Home, etc. using groupby. By running a for loop over the unique items in the department column of sales."
   ]
  },
  {
   "cell_type": "code",
   "execution_count": null,
   "metadata": {
    "colab": {},
    "colab_type": "code",
    "id": "zZTJLXQAkhG8"
   },
   "outputs": [],
   "source": [
    "for i in range(len(sales['department'].unique())):\n",
    "    k = sales['department'].unique()[i]\n",
    "    sales1[k] = sales.where(sales['department'] == k).groupby('custaccount')['department'].agg('size')"
   ]
  },
  {
   "cell_type": "code",
   "execution_count": null,
   "metadata": {
    "colab": {
     "base_uri": "https://localhost:8080/",
     "height": 235
    },
    "colab_type": "code",
    "id": "QaBc9ZzESHF6",
    "outputId": "e82c13e1-d0e3-4717-a699-180b3ebe6367"
   },
   "outputs": [],
   "source": [
    "sales1.head()"
   ]
  },
  {
   "cell_type": "code",
   "execution_count": null,
   "metadata": {
    "colab": {},
    "colab_type": "code",
    "id": "58fDf88wkhHE"
   },
   "outputs": [],
   "source": [
    "sales1.reset_index(inplace=True) # Resetting the index"
   ]
  },
  {
   "cell_type": "markdown",
   "metadata": {
    "colab_type": "text",
    "id": "EUTxxKZojYGi"
   },
   "source": [
    "#### Replacing all NaNs will value of 0"
   ]
  },
  {
   "cell_type": "code",
   "execution_count": null,
   "metadata": {
    "colab": {},
    "colab_type": "code",
    "id": "AV9eE--7bKfg"
   },
   "outputs": [],
   "source": [
    "sales1 = sales1.where(~sales1.isnull(), 0)"
   ]
  },
  {
   "cell_type": "code",
   "execution_count": null,
   "metadata": {
    "colab": {
     "base_uri": "https://localhost:8080/",
     "height": 669
    },
    "colab_type": "code",
    "id": "JJ3_ukSdkhHH",
    "outputId": "8ba3c6ce-5c80-4489-b9a1-d633e9d214ef"
   },
   "outputs": [],
   "source": [
    "sales1.head(20)"
   ]
  },
  {
   "cell_type": "code",
   "execution_count": null,
   "metadata": {
    "colab": {},
    "colab_type": "code",
    "id": "p_LKZjqX0hae"
   },
   "outputs": [],
   "source": [
    "sales1 =pd.merge(sales1, df2, on='custaccount', how='left')"
   ]
  },
  {
   "cell_type": "code",
   "execution_count": null,
   "metadata": {
    "colab": {
     "base_uri": "https://localhost:8080/",
     "height": 204
    },
    "colab_type": "code",
    "id": "M-uRKdX0K9P7",
    "outputId": "9661fe75-a173-4228-e0cd-6f78636a47f4"
   },
   "outputs": [],
   "source": [
    "sales1.head()"
   ]
  },
  {
   "cell_type": "code",
   "execution_count": null,
   "metadata": {
    "colab": {
     "base_uri": "https://localhost:8080/",
     "height": 34
    },
    "colab_type": "code",
    "id": "6kK-AjRQ0nR2",
    "outputId": "ef33a4ea-70a8-48c7-f4d7-bc631532c2d0"
   },
   "outputs": [],
   "source": [
    "len(sales1.loc[sales1['churn'].isnull(),['custaccount', 'sales']])"
   ]
  },
  {
   "cell_type": "code",
   "execution_count": null,
   "metadata": {
    "colab": {
     "base_uri": "https://localhost:8080/",
     "height": 34
    },
    "colab_type": "code",
    "id": "fNDLB6HOHJMi",
    "outputId": "60997066-c6c4-4815-c847-ba7c7eb67c4a"
   },
   "outputs": [],
   "source": [
    "len(sales1)"
   ]
  },
  {
   "cell_type": "code",
   "execution_count": null,
   "metadata": {
    "colab": {
     "base_uri": "https://localhost:8080/",
     "height": 34
    },
    "colab_type": "code",
    "id": "AP9RTm7LGXG5",
    "outputId": "f8e81bd1-ec77-4790-9d05-55055b891adf"
   },
   "outputs": [],
   "source": [
    "sales1['churn'].unique()"
   ]
  },
  {
   "cell_type": "code",
   "execution_count": null,
   "metadata": {
    "colab": {
     "base_uri": "https://localhost:8080/",
     "height": 204
    },
    "colab_type": "code",
    "id": "dVVFlo81peuR",
    "outputId": "02daa84c-d342-4fe4-9a15-c89df96c430c"
   },
   "outputs": [],
   "source": [
    "sales1.head()"
   ]
  },
  {
   "cell_type": "markdown",
   "metadata": {
    "colab_type": "text",
    "id": "-8sAYxJbmQfz"
   },
   "source": [
    "### The next cell shows us sales value where the model has NaN values for churn column"
   ]
  },
  {
   "cell_type": "code",
   "execution_count": null,
   "metadata": {
    "colab": {
     "base_uri": "https://localhost:8080/",
     "height": 1723
    },
    "colab_type": "code",
    "id": "G4T6FxDhmJEE",
    "outputId": "e98c3816-8611-4823-eaa7-8c86aaf5d755"
   },
   "outputs": [],
   "source": [
    "sales1.loc[sales1['churn'].isnull(), ['custaccount', 'sales', 'churn']] # As can be seen no, all customers account  with negative sales are found here"
   ]
  },
  {
   "cell_type": "markdown",
   "metadata": {
    "colab_type": "text",
    "id": "dXbSH0jojqVk"
   },
   "source": [
    "### Deleting the rows with churn value of nan\n"
   ]
  },
  {
   "cell_type": "markdown",
   "metadata": {
    "colab_type": "text",
    "id": "R5AjX_Dcl3YK"
   },
   "source": [
    "Churn value of NaN is for those customers who didn't have positive transactions and only had negative transactions."
   ]
  },
  {
   "cell_type": "code",
   "execution_count": null,
   "metadata": {
    "colab": {},
    "colab_type": "code",
    "id": "WfDBXwEljwMs"
   },
   "outputs": [],
   "source": [
    " sales1.drop(index= sales1[sales1['churn'].isnull()].index, inplace=True)"
   ]
  },
  {
   "cell_type": "code",
   "execution_count": null,
   "metadata": {
    "colab": {
     "base_uri": "https://localhost:8080/",
     "height": 34
    },
    "colab_type": "code",
    "id": "62iXVgDrk2KE",
    "outputId": "be96e2ec-a0e9-4156-d5c2-1a9b7e853020"
   },
   "outputs": [],
   "source": [
    "sales1['churn'].unique()"
   ]
  },
  {
   "cell_type": "code",
   "execution_count": null,
   "metadata": {
    "colab": {
     "base_uri": "https://localhost:8080/",
     "height": 1969
    },
    "colab_type": "code",
    "id": "pKS0s1ZqkhHM",
    "outputId": "d23f1a96-544c-43e8-c2db-b57d157ac5c4"
   },
   "outputs": [],
   "source": [
    "sales1[sales1['sales'] < 0]"
   ]
  },
  {
   "cell_type": "code",
   "execution_count": null,
   "metadata": {
    "colab": {
     "base_uri": "https://localhost:8080/",
     "height": 34
    },
    "colab_type": "code",
    "id": "mDb4YVTrkhHN",
    "outputId": "e1c4edfc-f963-408f-e280-223b2322d5c1"
   },
   "outputs": [],
   "source": [
    "sales['store'].nunique()"
   ]
  },
  {
   "cell_type": "code",
   "execution_count": null,
   "metadata": {
    "colab": {
     "base_uri": "https://localhost:8080/",
     "height": 2000
    },
    "colab_type": "code",
    "id": "TBAgBZ2SkhHQ",
    "outputId": "90781047-ef4a-4c81-a17d-f156a845ab07"
   },
   "outputs": [],
   "source": [
    "#No. of different stores the person has shopped in.\n",
    "sales.groupby('custaccount')['store'].agg(['nunique', 'size'])"
   ]
  },
  {
   "cell_type": "markdown",
   "metadata": {
    "colab_type": "text",
    "id": "sxoL68cpkhHS"
   },
   "source": [
    "### Sale dataframe completed "
   ]
  },
  {
   "cell_type": "code",
   "execution_count": null,
   "metadata": {
    "colab": {
     "base_uri": "https://localhost:8080/",
     "height": 204
    },
    "colab_type": "code",
    "id": "aifJbYSNkhHS",
    "outputId": "a6e5ec67-3c67-49b4-94b3-9fa482e6e9c0"
   },
   "outputs": [],
   "source": [
    "sales1.head()"
   ]
  },
  {
   "cell_type": "code",
   "execution_count": null,
   "metadata": {
    "colab": {
     "base_uri": "https://localhost:8080/",
     "height": 1969
    },
    "colab_type": "code",
    "id": "9j6MEudBXC_8",
    "outputId": "cbac9d5d-66e5-4b66-8367-daa34bcc73f2"
   },
   "outputs": [],
   "source": [
    "sales1[sales1['churn'] == False]"
   ]
  },
  {
   "cell_type": "markdown",
   "metadata": {
    "colab_type": "text",
    "id": "OeeChhNIkhHU"
   },
   "source": [
    "### Removing attributes from cap_reg with more than 90% missing values"
   ]
  },
  {
   "cell_type": "code",
   "execution_count": null,
   "metadata": {
    "colab": {
     "base_uri": "https://localhost:8080/",
     "height": 457
    },
    "colab_type": "code",
    "id": "3k8xLALXul4U",
    "outputId": "43228159-06f8-4232-ec2d-af5e8ee7a496"
   },
   "outputs": [],
   "source": [
    "cap_reg.head()"
   ]
  },
  {
   "cell_type": "markdown",
   "metadata": {
    "colab_type": "text",
    "id": "lKDb4rwfkhHU"
   },
   "source": [
    "#### Predefined Drop; columns not required : These columns are supposed to not be pulled when importing data using sequel server, if any column isn't required ; it is best that it isn't pulled using sequel query so, that the new dataframe doesn't take up extra memory."
   ]
  },
  {
   "cell_type": "code",
   "execution_count": null,
   "metadata": {
    "colab": {},
    "colab_type": "code",
    "id": "PCIfZZdvkhHV"
   },
   "outputs": [],
   "source": [
    "col_drop = (['Unnamed: 0', \"Address\", 'Email', 'Email_Update',\n",
    "                   'Email_Validate', 'Firstname', 'Lastname', 'Mobile','Last updated store external id', 'Last updated store name', 'Registered concept name',\n",
    "            'Registered store code', 'Registered store external id', 'Registered store name',\n",
    "            'Registered till name', 'Registered till user name', 'Registered zone name',\n",
    "            'Slab name', 'User id', 'User identifier', 'isEnabled flag'])"
   ]
  },
  {
   "cell_type": "code",
   "execution_count": null,
   "metadata": {
    "colab": {},
    "colab_type": "code",
    "id": "zpIQ22v3khHY"
   },
   "outputs": [],
   "source": [
    "cap_reg.drop(col_drop, axis=1, inplace=True)"
   ]
  },
  {
   "cell_type": "code",
   "execution_count": null,
   "metadata": {
    "colab": {
     "base_uri": "https://localhost:8080/",
     "height": 102
    },
    "colab_type": "code",
    "id": "lvC49FyTxTkS",
    "outputId": "272e0d03-5e38-4bf3-d663-0e10c3a4d080"
   },
   "outputs": [],
   "source": [
    "cap_reg.columns"
   ]
  },
  {
   "cell_type": "code",
   "execution_count": null,
   "metadata": {
    "colab": {
     "base_uri": "https://localhost:8080/",
     "height": 323
    },
    "colab_type": "code",
    "id": "pPhqwU0msOpi",
    "outputId": "993f91c4-582f-4016-990a-ca2985847ce5"
   },
   "outputs": [],
   "source": [
    "cap_reg.info(memory_usage='deep', null_counts=True)\n",
    "print('_'* 80)"
   ]
  },
  {
   "cell_type": "code",
   "execution_count": null,
   "metadata": {
    "colab": {
     "base_uri": "https://localhost:8080/",
     "height": 411
    },
    "colab_type": "code",
    "id": "MhvXnVaykhHa",
    "outputId": "cad46774-2434-4e0e-ed81-e963d7c2baf9"
   },
   "outputs": [],
   "source": [
    "cap_reg.head()"
   ]
  },
  {
   "cell_type": "markdown",
   "metadata": {
    "colab_type": "text",
    "id": "3B9-AOhjxji3"
   },
   "source": [
    "### Dropping columns with more than 90% missing values."
   ]
  },
  {
   "cell_type": "code",
   "execution_count": null,
   "metadata": {
    "colab": {},
    "colab_type": "code",
    "id": "Gyhu4uq5khHj"
   },
   "outputs": [],
   "source": [
    "length = len(cap_reg)\n",
    "list = []\n",
    "for col in cap_reg.columns:\n",
    "    if (cap_reg[col].count()/length)* 100 <= 10:\n",
    "        list.append(col)\n",
    "cap_reg.drop(columns=list, inplace=True)"
   ]
  },
  {
   "cell_type": "code",
   "execution_count": null,
   "metadata": {
    "colab": {
     "base_uri": "https://localhost:8080/",
     "height": 34
    },
    "colab_type": "code",
    "id": "uqYaX6iJ_SCD",
    "outputId": "8fb77dbb-fed0-4393-cfd7-a9b11ab47ff4"
   },
   "outputs": [],
   "source": [
    "list"
   ]
  },
  {
   "cell_type": "code",
   "execution_count": null,
   "metadata": {
    "colab": {
     "base_uri": "https://localhost:8080/",
     "height": 207
    },
    "colab_type": "code",
    "id": "g9hWJDnPkhHk",
    "outputId": "9efbc80e-7fc8-434c-9a82-6e4319821c26"
   },
   "outputs": [],
   "source": [
    "cap_reg.describe()"
   ]
  },
  {
   "cell_type": "code",
   "execution_count": null,
   "metadata": {
    "colab": {
     "base_uri": "https://localhost:8080/",
     "height": 34
    },
    "colab_type": "code",
    "id": "Hq7TTTNOnWhe",
    "outputId": "694c410d-78cd-45a1-d776-37d7a86baffc"
   },
   "outputs": [],
   "source": [
    "cap_reg['gender'].unique()"
   ]
  },
  {
   "cell_type": "markdown",
   "metadata": {
    "colab_type": "text",
    "id": "_uYtByvUtLV4"
   },
   "source": [
    "**Data Cleaning of gender feature**   #Using regular expression\n",
    "\n",
    "---\n",
    "\n"
   ]
  },
  {
   "cell_type": "code",
   "execution_count": null,
   "metadata": {
    "colab": {},
    "colab_type": "code",
    "id": "O0SLaR4dnkr_"
   },
   "outputs": [],
   "source": [
    "#cap_reg['gender'] = cap_reg['gender'].replace(regex={r'^[mM].*$': 'M', r'^[fF].*$': 'F'}) "
   ]
  },
  {
   "cell_type": "code",
   "execution_count": null,
   "metadata": {
    "colab": {
     "base_uri": "https://localhost:8080/",
     "height": 306
    },
    "colab_type": "code",
    "id": "g5Jte3rCoOzL",
    "outputId": "790b8a24-3b9e-4717-ec1a-d6aa4c8ccc3d"
   },
   "outputs": [],
   "source": [
    "cap_reg.head()"
   ]
  },
  {
   "cell_type": "markdown",
   "metadata": {
    "colab_type": "text",
    "id": "E5fFFj8ax4Hj"
   },
   "source": [
    "### For features such as nationality, having unique values more than 3 ."
   ]
  },
  {
   "cell_type": "code",
   "execution_count": null,
   "metadata": {
    "colab": {
     "base_uri": "https://localhost:8080/",
     "height": 34
    },
    "colab_type": "code",
    "id": "lhmzMEdAujh_",
    "outputId": "63d0c6d3-fade-4f46-9057-768772ca9e91"
   },
   "outputs": [],
   "source": [
    "cap_reg['Nationality'].nunique()"
   ]
  },
  {
   "cell_type": "markdown",
   "metadata": {
    "colab_type": "text",
    "id": "cetNSgioaOJL"
   },
   "source": [
    "### Errors such as OutOfBoundsDatetime coerced "
   ]
  },
  {
   "cell_type": "markdown",
   "metadata": {
    "colab_type": "text",
    "id": "upVABo0UQiNT"
   },
   "source": [
    "#### Converted to Day/Month/Year format for ease of viewing. Since, I can't figure out beforehand that the below columns are datetime format: so, these have to be the same. One thing that can be done as precursor is all such columns are appended to a list and a for loop is used with dummy variable col.\n",
    "\n",
    "---\n",
    "\n"
   ]
  },
  {
   "cell_type": "markdown",
   "metadata": {
    "colab_type": "text",
    "id": "MIqeYAPFy8Gk"
   },
   "source": [
    "###OutOfBoundsDatetime: Out of bounds nanosecond timestamp: 1406-11-06 20:47:12, Here due to errors='coerce', converts to NaT"
   ]
  },
  {
   "cell_type": "code",
   "execution_count": null,
   "metadata": {
    "colab": {},
    "colab_type": "code",
    "id": "K3mhom-Gu1k7"
   },
   "outputs": [],
   "source": [
    "cap_reg['Date of joining'] = pd.to_datetime(cap_reg['Date of joining'], errors='coerce').dt.strftime('%d/%m/%Y')\n",
    "cap_reg['dateofbirth'] = pd.to_datetime(cap_reg['dateofbirth'] , errors='coerce').dt.strftime('%d/%m/%Y' )\n",
    "cap_reg['Anniversary'] = pd.to_datetime(cap_reg['Anniversary'], errors='coerce').dt.strftime('%d/%m/%Y')\n",
    "\n",
    "\n"
   ]
  },
  {
   "cell_type": "code",
   "execution_count": null,
   "metadata": {
    "colab": {
     "base_uri": "https://localhost:8080/",
     "height": 221
    },
    "colab_type": "code",
    "id": "UcFqGU4VbZSy",
    "outputId": "5b3672d5-b0e8-4580-e85c-987fa8a786b9"
   },
   "outputs": [],
   "source": [
    "cap_reg.head()"
   ]
  },
  {
   "cell_type": "code",
   "execution_count": null,
   "metadata": {
    "colab": {},
    "colab_type": "code",
    "id": "hsupu580kZXp"
   },
   "outputs": [],
   "source": [
    "#cap_reg['preferredlanguage'].unique()"
   ]
  },
  {
   "cell_type": "markdown",
   "metadata": {
    "colab_type": "text",
    "id": "Aq11gEam6xUh"
   },
   "source": [
    "### Converting The Languages to English and Arabic"
   ]
  },
  {
   "cell_type": "code",
   "execution_count": null,
   "metadata": {
    "colab": {},
    "colab_type": "code",
    "id": "vrDwzC5569rB"
   },
   "outputs": [],
   "source": [
    "#cap_reg['preferredlanguage'].unique()"
   ]
  },
  {
   "cell_type": "markdown",
   "metadata": {
    "colab_type": "text",
    "id": "Hg1HGJlzFQxj"
   },
   "source": [
    "### Will change Other after merging with sales dataframe."
   ]
  },
  {
   "cell_type": "code",
   "execution_count": null,
   "metadata": {
    "colab": {},
    "colab_type": "code",
    "id": "H8KrjD_qWtPA"
   },
   "outputs": [],
   "source": [
    "cap_reg.drop_duplicates(subset='External id', inplace=True)"
   ]
  },
  {
   "cell_type": "code",
   "execution_count": null,
   "metadata": {
    "colab": {},
    "colab_type": "code",
    "id": "-hOS38inApU5"
   },
   "outputs": [],
   "source": [
    "final_df = pd.merge(sales1, cap_reg, left_on='custaccount', right_on='External id', how='left').drop(columns='External id')"
   ]
  },
  {
   "cell_type": "code",
   "execution_count": null,
   "metadata": {
    "colab": {
     "base_uri": "https://localhost:8080/",
     "height": 343
    },
    "colab_type": "code",
    "id": "FpPOUlt4ApHr",
    "outputId": "88dbda22-f0eb-4370-cfa5-d427feb6ba93"
   },
   "outputs": [],
   "source": [
    "final_df.head()"
   ]
  },
  {
   "cell_type": "code",
   "execution_count": null,
   "metadata": {
    "colab": {
     "base_uri": "https://localhost:8080/",
     "height": 34
    },
    "colab_type": "code",
    "id": "PBs2dDl-Ehxe",
    "outputId": "fb38679b-28f0-4c2f-af18-5796d7d17600"
   },
   "outputs": [],
   "source": [
    "final_df['churn'].unique()"
   ]
  },
  {
   "cell_type": "code",
   "execution_count": null,
   "metadata": {
    "colab": {
     "base_uri": "https://localhost:8080/",
     "height": 34
    },
    "colab_type": "code",
    "id": "mOh6mhPNApEx",
    "outputId": "d655ceaf-de16-466d-bc6f-ce4ef60ef9cc"
   },
   "outputs": [],
   "source": [
    "(final_df['sales'] == 0).sum()"
   ]
  },
  {
   "cell_type": "code",
   "execution_count": null,
   "metadata": {
    "colab": {
     "base_uri": "https://localhost:8080/",
     "height": 119
    },
    "colab_type": "code",
    "id": "Ex24VVulAo7P",
    "outputId": "2ca981bd-2559-43ed-da70-12b6c1aedfd0"
   },
   "outputs": [],
   "source": [
    "final_df.columns"
   ]
  },
  {
   "cell_type": "code",
   "execution_count": null,
   "metadata": {
    "colab": {
     "base_uri": "https://localhost:8080/",
     "height": 343
    },
    "colab_type": "code",
    "id": "b73abqPyXEW8",
    "outputId": "2ddeeea3-af83-450f-caf8-42cfdbb8f59a"
   },
   "outputs": [],
   "source": [
    "final_df.head()"
   ]
  },
  {
   "cell_type": "code",
   "execution_count": null,
   "metadata": {
    "colab": {
     "base_uri": "https://localhost:8080/",
     "height": 1088
    },
    "colab_type": "code",
    "id": "YCEJySI5ZbmH",
    "outputId": "2c12a400-d56a-4999-a9ac-c04256354b35"
   },
   "outputs": [],
   "source": [
    "(final_df.groupby('Nationality')['custaccount'].agg('size')).sort_values(ascending=False)"
   ]
  },
  {
   "cell_type": "code",
   "execution_count": null,
   "metadata": {
    "colab": {},
    "colab_type": "code",
    "id": "R31_3x5joWTb"
   },
   "outputs": [],
   "source": [
    "#final_df['gender'] = final_df['gender'].apply(lambda x : 1 if x== 'F' else ( 0 if x=='M' else np.nan))\n",
    "#  dataset['Embarked'].map( {'S': 0, 'C': 1, 'Q': 2} ).astype(int)"
   ]
  },
  {
   "cell_type": "code",
   "execution_count": null,
   "metadata": {
    "colab": {
     "base_uri": "https://localhost:8080/",
     "height": 51
    },
    "colab_type": "code",
    "id": "fqSlKtp60Clw",
    "outputId": "22ad8dc2-5020-4edb-e1a5-018268e8b3d1"
   },
   "outputs": [],
   "source": [
    "final_df['Anniversary'].unique()"
   ]
  },
  {
   "cell_type": "code",
   "execution_count": null,
   "metadata": {
    "colab": {},
    "colab_type": "code",
    "id": "tTkBMOtszP8p"
   },
   "outputs": [],
   "source": [
    "final_df['Anniversary'] = ((pd.to_datetime('today') - pd.to_datetime(final_df['Anniversary']))/np.timedelta64(1, 'D'))     \n",
    "final_df['dateofbirth'] = ((pd.to_datetime('today') - pd.to_datetime(final_df['dateofbirth']))/np.timedelta64(1, 'D'))\n",
    "final_df['Date of joining'] = ((pd.to_datetime('today') - pd.to_datetime(final_df['Date of joining']))/np.timedelta64(1, 'D'))"
   ]
  },
  {
   "cell_type": "code",
   "execution_count": null,
   "metadata": {
    "colab": {
     "base_uri": "https://localhost:8080/",
     "height": 343
    },
    "colab_type": "code",
    "id": "CbHkUYMczPtd",
    "outputId": "f5394717-7e0d-4593-c03d-656a2f9da8e7"
   },
   "outputs": [],
   "source": [
    "final_df.head()"
   ]
  },
  {
   "cell_type": "code",
   "execution_count": null,
   "metadata": {
    "colab": {},
    "colab_type": "code",
    "id": "OnrjoQSf6zkE"
   },
   "outputs": [],
   "source": [
    "cols = ['custaccount', 'sales', 'Ladies', 'Home', 'Men', 'Accessories', 'Kids',\n",
    "       'Lingerie & Nightwear', 'Footwear', 'Beauty', 'Anniversary',\n",
    "       'Current points', 'Date of joining', 'Lifetime points',\n",
    "       'Lifetime purchases', 'Nationality', 'dateofbirth', 'gender',\n",
    "       'preferredlanguage','churn' ]"
   ]
  },
  {
   "cell_type": "code",
   "execution_count": null,
   "metadata": {
    "colab": {},
    "colab_type": "code",
    "id": "qyQfIIil67O9"
   },
   "outputs": [],
   "source": [
    "final_df = final_df[cols]"
   ]
  },
  {
   "cell_type": "code",
   "execution_count": null,
   "metadata": {
    "colab": {
     "base_uri": "https://localhost:8080/",
     "height": 472
    },
    "colab_type": "code",
    "id": "WA6mtFGOtJyp",
    "outputId": "503aaa1b-116d-4022-bf34-e830ab00136b"
   },
   "outputs": [],
   "source": [
    "#plt.matshow(final_df.corr())\n",
    "final_df.corr()"
   ]
  },
  {
   "cell_type": "code",
   "execution_count": null,
   "metadata": {
    "colab": {},
    "colab_type": "code",
    "id": "q05DDTv4zN_c"
   },
   "outputs": [],
   "source": [
    "#final_df['churn'] = final_df['churn'].map({True: 0 , False: 1})"
   ]
  },
  {
   "cell_type": "code",
   "execution_count": null,
   "metadata": {
    "colab": {
     "base_uri": "https://localhost:8080/",
     "height": 343
    },
    "colab_type": "code",
    "id": "l2mhGyKkzNx3",
    "outputId": "7069a3bd-2ada-4a08-f506-d34694850355"
   },
   "outputs": [],
   "source": [
    "final_df.head()"
   ]
  },
  {
   "cell_type": "code",
   "execution_count": null,
   "metadata": {
    "colab": {},
    "colab_type": "code",
    "id": "4MP1IjAxGO5M"
   },
   "outputs": [],
   "source": [
    "columns = final_df.columns"
   ]
  },
  {
   "cell_type": "code",
   "execution_count": null,
   "metadata": {
    "colab": {
     "base_uri": "https://localhost:8080/",
     "height": 34
    },
    "colab_type": "code",
    "id": "KSZBBwSSHS_r",
    "outputId": "3c76e23f-2ef9-4dcc-dfd2-e7b27a836b1c"
   },
   "outputs": [],
   "source": [
    "final_df['gender'].unique()"
   ]
  },
  {
   "cell_type": "markdown",
   "metadata": {
    "colab_type": "text",
    "id": "bLOXMX1pmU4o"
   },
   "source": [
    "#### These three columns Lifetime points, Lifetime purchases & Current points should be input as floating point or int values by the user. In the given data , the columns were input as string data & had to be converted to numeric using pandas.Series.to_numeric. (Pandas.Series.astype could also, have been used.)"
   ]
  },
  {
   "cell_type": "code",
   "execution_count": null,
   "metadata": {
    "colab": {},
    "colab_type": "code",
    "id": "KbWYIk8OBZ3E"
   },
   "outputs": [],
   "source": [
    "final_df['Lifetime points'] = pd.to_numeric(final_df['Lifetime points'], errors='coerce')\n",
    "final_df['Lifetime purchases'] = pd.to_numeric(final_df['Lifetime purchases'], errors = 'coerce')\n",
    "final_df['Current points'] = pd.to_numeric(final_df['Current points'], errors = 'coerce')"
   ]
  },
  {
   "cell_type": "markdown",
   "metadata": {
    "colab_type": "text",
    "id": "svAvA5sgm3M_"
   },
   "source": [
    "#### Separating the different types of columns categorical, continuous ."
   ]
  },
  {
   "cell_type": "code",
   "execution_count": null,
   "metadata": {
    "colab": {},
    "colab_type": "code",
    "id": "f6GgkaQfL0P6"
   },
   "outputs": [],
   "source": [
    "categorical = []\n",
    "continuous = []\n",
    "list3 = []"
   ]
  },
  {
   "cell_type": "markdown",
   "metadata": {
    "colab_type": "text",
    "id": "qCabJkk-nBC6"
   },
   "source": [
    "#### Dtype should be float64 or object if its numeric , etc then it goes to list3, which means there are no NaNs in  columns in list3 and thus, they do not require imputation."
   ]
  },
  {
   "cell_type": "code",
   "execution_count": null,
   "metadata": {
    "colab": {},
    "colab_type": "code",
    "id": "H-lQM2X2NdAq"
   },
   "outputs": [],
   "source": [
    "for col in columns:\n",
    "  if final_df[col].dtype.name == 'object':\n",
    "    categorical.append(col)\n",
    "  elif final_df[col].dtype.name == 'float64':\n",
    "    continuous.append(col)\n",
    "  else:\n",
    "    list3.append(col)"
   ]
  },
  {
   "cell_type": "markdown",
   "metadata": {
    "colab_type": "text",
    "id": "GMLpQE4wnV0H"
   },
   "source": [
    "#### Categorical Value"
   ]
  },
  {
   "cell_type": "code",
   "execution_count": null,
   "metadata": {
    "colab": {
     "base_uri": "https://localhost:8080/",
     "height": 34
    },
    "colab_type": "code",
    "id": "sx2Lzi6YGf5S",
    "outputId": "7a8fd1fe-f7f5-4dbd-a356-9b0829d654ac"
   },
   "outputs": [],
   "source": [
    "categorical"
   ]
  },
  {
   "cell_type": "markdown",
   "metadata": {
    "colab_type": "text",
    "id": "IVN5uJUYnbgT"
   },
   "source": [
    "#### Continuous list Value"
   ]
  },
  {
   "cell_type": "code",
   "execution_count": null,
   "metadata": {
    "colab": {
     "base_uri": "https://localhost:8080/",
     "height": 272
    },
    "colab_type": "code",
    "id": "_ecQjgceN7w5",
    "outputId": "8dcac385-e9e1-4e35-91ed-45af0005bf84"
   },
   "outputs": [],
   "source": [
    "continuous"
   ]
  },
  {
   "cell_type": "code",
   "execution_count": null,
   "metadata": {
    "colab": {},
    "colab_type": "code",
    "id": "hQ-OOOeUOsTk"
   },
   "outputs": [],
   "source": [
    "impute_continuous = []\n",
    "for col in continuous:\n",
    "  if final_df[col].isnull().sum() > 0:\n",
    "    impute_continuous.append(col)"
   ]
  },
  {
   "cell_type": "code",
   "execution_count": null,
   "metadata": {
    "colab": {
     "base_uri": "https://localhost:8080/",
     "height": 119
    },
    "colab_type": "code",
    "id": "UERrlhcQdIHp",
    "outputId": "e4f89580-2e33-4c4f-f721-0be413a3bedc"
   },
   "outputs": [],
   "source": [
    "impute_continuous"
   ]
  },
  {
   "cell_type": "code",
   "execution_count": null,
   "metadata": {
    "colab": {},
    "colab_type": "code",
    "id": "FlzfNDlPdO59"
   },
   "outputs": [],
   "source": [
    "impute_categorical = []\n",
    "for col in categorical:\n",
    "  if final_df[col].isnull().sum() > 0:\n",
    "    impute_categorical.append(col)"
   ]
  },
  {
   "cell_type": "code",
   "execution_count": null,
   "metadata": {
    "colab": {
     "base_uri": "https://localhost:8080/",
     "height": 34
    },
    "colab_type": "code",
    "id": "O-N0bAEVddup",
    "outputId": "b761f6ae-8ff2-4c5e-fce8-e1d685c7d993"
   },
   "outputs": [],
   "source": [
    "impute_categorical"
   ]
  },
  {
   "cell_type": "code",
   "execution_count": null,
   "metadata": {
    "colab": {},
    "colab_type": "code",
    "id": "37LbPdskkyqD"
   },
   "outputs": [],
   "source": [
    "# Imputation of continuous features.\n",
    "for col in impute_continuous:\n",
    "  iq75, iq25 = np.percentile(final_df[col].dropna(), [75, 25])\n",
    "  iqr = iq75 - iq25\n",
    "  final_df[col] = final_df[col].where(final_df[col].notnull(), final_df[col].mean())\n",
    "  m = (final_df[col] <= iq75 + iqr* 1.5)\n",
    "  final_df[col] = final_df[col].where(m, iq75 + iqr*1.5)\n",
    "  m = (final_df[col] >= iq25 - iqr*1.5)\n",
    "  final_df[col] = final_df[col].where(m, iq25 - iqr*1.5)"
   ]
  },
  {
   "cell_type": "code",
   "execution_count": null,
   "metadata": {
    "colab": {
     "base_uri": "https://localhost:8080/",
     "height": 343
    },
    "colab_type": "code",
    "id": "aMc6UUF_JKgS",
    "outputId": "13b025d6-5998-49f5-ad54-ebcc98c08ecd"
   },
   "outputs": [],
   "source": [
    "final_df.head()\n",
    "  "
   ]
  },
  {
   "cell_type": "code",
   "execution_count": null,
   "metadata": {
    "colab": {},
    "colab_type": "code",
    "id": "fSfLwTKMKXnx"
   },
   "outputs": [],
   "source": [
    "#final_df['gender'] = final_df['gender'].apply(lambda x : 1 if x== 'F' else ( 0 if x=='M' else np.nan))"
   ]
  },
  {
   "cell_type": "code",
   "execution_count": null,
   "metadata": {
    "colab": {},
    "colab_type": "code",
    "id": "kxBp37KXB3E2"
   },
   "outputs": [],
   "source": [
    "for col in impute_categorical:\n",
    "  #final_df[col] = final_df[col].astype('str')\n",
    "  if len(final_df[col].unique()) > 3:\n",
    "    category1 = (final_df.groupby(col)['custaccount'].agg('size')).idxmax()\n",
    "    category2 = (final_df.groupby(col)['custaccount'].agg('size')).drop(category1).idxmax()\n",
    "    m = ((final_df[col] == category1 ) | (final_df[col] == category2))\n",
    "    final_df[col] = final_df[col].where(~final_df[col].isnull() , category1)\n",
    "    final_df[col] = final_df[col].where(m , 'Others')  \n",
    "  else:\n",
    "    category3 = final_df.groupby(col)['custaccount'].agg('size').idxmax()\n",
    "    category4 = final_df.groupby(col)['custaccount'].agg('size').drop(category1).idxmax()\n",
    "    category4 = category4.upper()\n",
    "    category3 = category3.upper()\n",
    "    final_df[col] = final_df[col].where(final_df[col].apply(lambda x :type(x)) == type('st'), np.nan)\n",
    "    final_df[col] = final_df[col].apply(lambda x : category4 if category4[:2] in x.upper() else (category3 if category3[:2] in x.upper() else 'Others'))"
   ]
  },
  {
   "cell_type": "code",
   "execution_count": null,
   "metadata": {
    "colab": {
     "base_uri": "https://localhost:8080/",
     "height": 34
    },
    "colab_type": "code",
    "id": "0JA6Y1MKKGD0",
    "outputId": "de9f6edd-068b-4da1-c7e1-7fc742854d40"
   },
   "outputs": [],
   "source": [
    "np.nan"
   ]
  },
  {
   "cell_type": "code",
   "execution_count": null,
   "metadata": {
    "colab": {
     "base_uri": "https://localhost:8080/",
     "height": 343
    },
    "colab_type": "code",
    "id": "ja1CYNh44IET",
    "outputId": "4cba8fc2-382d-4572-ade0-fd0668e0c8e5"
   },
   "outputs": [],
   "source": [
    "final_df.head()"
   ]
  },
  {
   "cell_type": "code",
   "execution_count": null,
   "metadata": {
    "colab": {
     "base_uri": "https://localhost:8080/",
     "height": 34
    },
    "colab_type": "code",
    "id": "d2U3sxim4ffG",
    "outputId": "91d259f5-07a7-4729-d7f1-5208eaf9786d"
   },
   "outputs": [],
   "source": [
    "final_df['Nationality'].unique()"
   ]
  },
  {
   "cell_type": "code",
   "execution_count": null,
   "metadata": {
    "colab": {
     "base_uri": "https://localhost:8080/",
     "height": 34
    },
    "colab_type": "code",
    "id": "Cc0uRifABubm",
    "outputId": "15868096-c4cc-4f33-a8ac-de24505fd31f"
   },
   "outputs": [],
   "source": [
    "final_df['gender'].unique()"
   ]
  },
  {
   "cell_type": "code",
   "execution_count": null,
   "metadata": {
    "colab": {
     "base_uri": "https://localhost:8080/",
     "height": 34
    },
    "colab_type": "code",
    "id": "BLFkUL-6JhOU",
    "outputId": "b421e17f-be2e-4bef-cba6-513d3d3719d7"
   },
   "outputs": [],
   "source": [
    "final_df['preferredlanguage'].unique()"
   ]
  },
  {
   "cell_type": "code",
   "execution_count": null,
   "metadata": {
    "colab": {
     "base_uri": "https://localhost:8080/",
     "height": 34
    },
    "colab_type": "code",
    "id": "EK-3OnfpA457",
    "outputId": "f0a56570-d537-4ff5-ed65-9f19473c6308"
   },
   "outputs": [],
   "source": [
    "category1, category2"
   ]
  },
  {
   "cell_type": "code",
   "execution_count": null,
   "metadata": {
    "colab": {
     "base_uri": "https://localhost:8080/",
     "height": 146
    },
    "colab_type": "code",
    "id": "2M2NTb1a3MAz",
    "outputId": "8d29c821-c49b-4906-9076-334191100d07"
   },
   "outputs": [],
   "source": [
    "\"\"\"cap_reg['preferredlanguage'] = cap_reg['preferredlanguage'].replace(regex={r'^[Ee][nN].*$': 'English', r'^[Aa][rR].*$': 'Arabic'})\n",
    "\"\"\"ml = final_df.groupby('preferredlanguage')['custaccount'].agg('size').idxmax()\n",
    "final_df['preferredlanguage'] = final_df['preferredlanguage'].where(~final_df['preferredlanguage'].isnull(), ml)\n",
    "m = ((cap_reg['preferredlanguage'] == 'English') | (cap_reg['preferredlanguage'] == 'Arabic'))\n",
    "cap_reg['preferredlanguage'] = cap_reg['preferredlanguage'].where(m, 'Other')\"\"\"\"\"\""
   ]
  },
  {
   "cell_type": "code",
   "execution_count": null,
   "metadata": {
    "colab": {
     "base_uri": "https://localhost:8080/",
     "height": 34
    },
    "colab_type": "code",
    "id": "n4t8dsff6hUh",
    "outputId": "d7e7a09d-d54d-4579-e26c-7398481e48c3"
   },
   "outputs": [],
   "source": [
    "\"\"\"cap_reg['preferredlanguage'].unique()\"\"\""
   ]
  },
  {
   "cell_type": "code",
   "execution_count": null,
   "metadata": {
    "colab": {
     "base_uri": "https://localhost:8080/",
     "height": 343
    },
    "colab_type": "code",
    "id": "R7D60lLvLYEa",
    "outputId": "1293056c-e648-435e-96d6-1cf5a896cd12"
   },
   "outputs": [],
   "source": [
    "final_df.head()"
   ]
  },
  {
   "cell_type": "code",
   "execution_count": null,
   "metadata": {
    "colab": {
     "base_uri": "https://localhost:8080/",
     "height": 34
    },
    "colab_type": "code",
    "id": "v5IpNB3TPRCJ",
    "outputId": "f2b34700-df3b-4201-816e-68176160aeda"
   },
   "outputs": [],
   "source": [
    "final_df['preferredlanguage'].unique()"
   ]
  },
  {
   "cell_type": "markdown",
   "metadata": {
    "colab_type": "text",
    "id": "Z6WHVN0PAGx1"
   },
   "source": [
    "### This is Memory information of Colab CPU! 13.35 Gbs of RAM!!!"
   ]
  },
  {
   "cell_type": "code",
   "execution_count": null,
   "metadata": {
    "colab": {
     "base_uri": "https://localhost:8080/",
     "height": 68
    },
    "colab_type": "code",
    "id": "stZIci_M8w6o",
    "outputId": "b37a3a6b-f9f1-458c-e587-c51626c8cee0"
   },
   "outputs": [],
   "source": [
    "!free"
   ]
  },
  {
   "cell_type": "markdown",
   "metadata": {
    "colab_type": "text",
    "id": "vicAg2y_AWUR"
   },
   "source": [
    "### This is CPU processor information , far more processing power!!!"
   ]
  },
  {
   "cell_type": "code",
   "execution_count": null,
   "metadata": {
    "colab": {
     "base_uri": "https://localhost:8080/",
     "height": 955
    },
    "colab_type": "code",
    "id": "82c3HOuo_IX9",
    "outputId": "7d9ceb4c-e3af-45d9-fb6b-f7fc7ad2df77"
   },
   "outputs": [],
   "source": [
    "!cat /proc/cpuinfo"
   ]
  },
  {
   "cell_type": "code",
   "execution_count": null,
   "metadata": {
    "colab": {},
    "colab_type": "code",
    "id": "P_sLPbEF_h3y"
   },
   "outputs": [],
   "source": []
  },
  {
   "cell_type": "code",
   "execution_count": null,
   "metadata": {
    "colab": {
     "base_uri": "https://localhost:8080/",
     "height": 163
    },
    "colab_type": "code",
    "id": "I3JIDOXdRcim",
    "outputId": "36b52674-1caf-43d6-970b-6465536a53c5"
   },
   "outputs": [],
   "source": [
    "final_df.dropna(columns='churn')"
   ]
  },
  {
   "cell_type": "code",
   "execution_count": null,
   "metadata": {
    "colab": {},
    "colab_type": "code",
    "id": "Lnp7PQlpRfuj"
   },
   "outputs": [],
   "source": [
    "final_df.dropna?"
   ]
  },
  {
   "cell_type": "code",
   "execution_count": null,
   "metadata": {
    "colab": {},
    "colab_type": "code",
    "id": "A9eMy13DSY-g"
   },
   "outputs": [],
   "source": []
  }
 ],
 "metadata": {
  "colab": {
   "collapsed_sections": [],
   "name": "Copy of Jupyter_churn.ipynb",
   "provenance": [],
   "version": "0.3.2"
  },
  "kernelspec": {
   "display_name": "Python 3",
   "language": "python",
   "name": "python3"
  },
  "language_info": {
   "codemirror_mode": {
    "name": "ipython",
    "version": 3
   },
   "file_extension": ".py",
   "mimetype": "text/x-python",
   "name": "python",
   "nbconvert_exporter": "python",
   "pygments_lexer": "ipython3",
   "version": "3.6.5"
  }
 },
 "nbformat": 4,
 "nbformat_minor": 1
}
